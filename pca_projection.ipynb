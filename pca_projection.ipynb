{
 "cells": [
  {
   "cell_type": "markdown",
   "id": "b1bc5cd4-ae68-4b0b-aa04-ca2de1d4e8a8",
   "metadata": {},
   "source": [
    "## Task Description\n",
    "\n",
    "Our data is centered (i.e., mean 0) and stored in a matrix. In this matrix, each observation corresponds to a column and each feature corresponds to a row. Using singular value decomposition, we obtain the matrices $U$, $\\Sigma$, and $V^T$, the product of which equals the matrix which contains our data. These are the values of the three matrices:\n",
    "\n",
    "$$ U = \\left( \\begin{matrix} 1 & 0 & 0 & 0 \\\\ 0 & \\sqrt{0.5} & -\\sqrt{0.5} & 0 \\\\ 0 & \\sqrt{0.5} & \\sqrt{0.5} & 0 \\\\ 0 & 0 & 0 & 1 \\end{matrix} \\right) $$\n",
    "\n",
    "$$ \\Sigma = \\left( \\begin{matrix} 8 & 0 &  & 0 \\\\ 0 & 6 & 0 & 0 \\\\ 0 & 0 & 4 & 0 \\\\ 0 & 0 & 0 & 2 \\end{matrix} \\right) $$\n",
    "\n",
    "$$ V^T =  \\left( \\begin{matrix} \\sqrt{0.5} & 0 & -\\sqrt{0.5} & 0 \\\\ 0 & 1 & 0 & 0 \\\\ \\sqrt{0.5} & 0 & \\sqrt{0.5} & 0 \\\\ 0 & 0 & 0 & 1 \\end{matrix} \\right) $$\n",
    "\n",
    "Project the observation $\\left( \\begin{matrix} 9 & 1 & 2 & 3 \\end{matrix} \\right)^T$ onto the first two principal components! Your answer should be the projection which is in the same space as the original observation (and not in a subspace)."
   ]
  },
  {
   "cell_type": "markdown",
   "id": "7e350d82-ab43-44f0-841b-c04116d199da",
   "metadata": {},
   "source": [
    "## Code"
   ]
  },
  {
   "cell_type": "code",
   "execution_count": 1,
   "id": "d10fed17-2504-466f-89d1-9f2f6a71b502",
   "metadata": {},
   "outputs": [],
   "source": [
    "import numpy as np"
   ]
  },
  {
   "cell_type": "code",
   "execution_count": 2,
   "id": "f2e20b08-0f75-4cc5-985b-0f06c97acafd",
   "metadata": {},
   "outputs": [],
   "source": [
    "U = np.array([\n",
    "    [1,  0,             0,            0],\n",
    "    [0,  np.sqrt(.5),  -np.sqrt(.5),  0],\n",
    "    [0,  np.sqrt(.5),   np.sqrt(.5),  0],\n",
    "    [0,  0,             0,            1]\n",
    "])\n",
    "Sigma = np.diag((8, 6, 4, 2))\n",
    "VT = np.array([\n",
    "    [np.sqrt(.5),  0,  -np.sqrt(.5),  0],\n",
    "    [0,            1,   0,            0],\n",
    "    [np.sqrt(.5),  0,   np.sqrt(.5),  0],\n",
    "    [0,            0,   0,            1]\n",
    "])"
   ]
  }
 ],
 "metadata": {
  "kernelspec": {
   "display_name": "Python 3 (ipykernel)",
   "language": "python",
   "name": "python3"
  },
  "language_info": {
   "codemirror_mode": {
    "name": "ipython",
    "version": 3
   },
   "file_extension": ".py",
   "mimetype": "text/x-python",
   "name": "python",
   "nbconvert_exporter": "python",
   "pygments_lexer": "ipython3",
   "version": "3.13.1"
  }
 },
 "nbformat": 4,
 "nbformat_minor": 5
}
